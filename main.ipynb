{
  "nbformat": 4,
  "nbformat_minor": 0,
  "metadata": {
    "kernelspec": {
      "display_name": "Python 3",
      "language": "python",
      "name": "python3"
    },
    "language_info": {
      "codemirror_mode": {
        "name": "ipython",
        "version": 3
      },
      "file_extension": ".py",
      "mimetype": "text/x-python",
      "name": "python",
      "nbconvert_exporter": "python",
      "pygments_lexer": "ipython3",
      "version": "3.8.6-final"
    },
    "colab": {
      "name": "comma_ai_challenge.ipynb",
      "provenance": []
    },
    "accelerator": "GPU"
  },
  "cells": [
    {
      "cell_type": "code",
      "metadata": {
        "id": "yAKOFr8WLExc"
      },
      "source": [
        "## imported needed \n",
        "import numpy\n",
        "\n",
        "import tensorflow as tf\n",
        "from tensorflow.keras import Sequential \n",
        "from tensorflow.keras.layers import Dense, Dropout, Flatten, Conv2D, MaxPool2D\n",
        "import numpy as np\n",
        "from sklearn.model_selection import train_test_split\n",
        "\n",
        "import matplotlib.pyplot as plt\n",
        "import matplotlib.image as mpimg\n",
        "\n",
        "import os\n",
        "from IPython.display import clear_output"
      ],
      "execution_count": 3,
      "outputs": []
    },
    {
      "cell_type": "code",
      "metadata": {
        "colab": {
          "base_uri": "https://localhost:8080/"
        },
        "id": "Sq_QOCShLExc",
        "outputId": "c52948fc-1b60-4bf5-c73f-54acda4e82d0"
      },
      "source": [
        "## just shows if GPU acceleration is avaialble... need CUDA compatible GPU. check tf website for compatibility\n",
        "## for tensorflow 2.0 just pip install tensorflow... otherwise use tensorflow-gpu\n",
        "\n",
        "print(\"Num GPUs Available: \", len(tf.config.experimental.list_physical_devices('GPU')))\n"
      ],
      "execution_count": 6,
      "outputs": [
        {
          "output_type": "stream",
          "text": [
            "Num GPUs Available:  1\n"
          ],
          "name": "stdout"
        }
      ]
    },
    {
      "cell_type": "code",
      "metadata": {
        "colab": {
          "base_uri": "https://localhost:8080/"
        },
        "id": "yN-j5e4xLExd",
        "outputId": "9a8b223b-3f7b-4b5e-f04d-37e95a0336b2"
      },
      "source": [
        "## load images that will be used for training and testing\n",
        "imgDirec = './train_homography.npy'\n",
        "\n",
        "# load the data into a numpy array\n",
        "X_data = np.load(imgDirec)\n",
        "\n",
        "print('Number of images: ' + str(len(X_data)))\n",
        "X_data.shape"
      ],
      "execution_count": 7,
      "outputs": [
        {
          "output_type": "stream",
          "text": [
            "Number of images: 20399\n"
          ],
          "name": "stdout"
        },
        {
          "output_type": "execute_result",
          "data": {
            "text/plain": [
              "(20399, 72, 96)"
            ]
          },
          "metadata": {
            "tags": []
          },
          "execution_count": 7
        }
      ]
    },
    {
      "cell_type": "code",
      "metadata": {
        "colab": {
          "base_uri": "https://localhost:8080/",
          "height": 268
        },
        "id": "kZXEsxs7LExe",
        "outputId": "cd5673f9-21aa-44e4-93e5-8626aea5167e"
      },
      "source": [
        "X_data = X_data / 255\n",
        "img = plt.imshow(X_data[0])\n"
      ],
      "execution_count": 8,
      "outputs": [
        {
          "output_type": "display_data",
          "data": {
            "image/png": "[encoded data removed]",
            "text/plain": [
              "<Figure size 432x288 with 1 Axes>"
            ]
          },
          "metadata": {
            "tags": [],
            "needs_background": "light"
          }
        }
      ]
    },
    {
      "cell_type": "code",
      "metadata": {
        "colab": {
          "base_uri": "https://localhost:8080/"
        },
        "id": "BMjCtJlFLExe",
        "outputId": "3dcd2c4c-9c24-4865-f13e-9dfddbe3effc"
      },
      "source": [
        "## load output (speed data) that will be used for trianing and testing\n",
        "spdDirec = './train.txt'\n",
        "file = open(spdDirec, 'r')\n",
        "y_data = []\n",
        "count = 0\n",
        "for line in file:\n",
        "    if count == len(X_data):\n",
        "        break\n",
        "    y_data.append(float(line))\n",
        "    count += 1\n",
        "    \n",
        "print('Number of speeds imported: ' + str(len(y_data)))\n",
        "y_data = np.array(y_data)"
      ],
      "execution_count": 9,
      "outputs": [
        {
          "output_type": "stream",
          "text": [
            "Number of speeds imported: 20399\n"
          ],
          "name": "stdout"
        }
      ]
    },
    {
      "cell_type": "code",
      "metadata": {
        "colab": {
          "base_uri": "https://localhost:8080/",
          "height": 285
        },
        "id": "8hmJxOrCLExf",
        "outputId": "0687cce0-d7e0-45cf-8dd6-56638484ae80"
      },
      "source": [
        "## get train and test data\n",
        "X_train, X_test, y_train, y_test = train_test_split(X_data, y_data, test_size=0.20)\n",
        "print(\"Speed: \" + str(y_train[0]))\n",
        "img = plt.imshow(X_train[0])"
      ],
      "execution_count": 10,
      "outputs": [
        {
          "output_type": "stream",
          "text": [
            "Speed: 0.764541\n"
          ],
          "name": "stdout"
        },
        {
          "output_type": "display_data",
          "data": {
            "image/png": "[encoded data removed]",
            "text/plain": [
              "<Figure size 432x288 with 1 Axes>"
            ]
          },
          "metadata": {
            "tags": [],
            "needs_background": "light"
          }
        }
      ]
    },
    {
      "cell_type": "code",
      "metadata": {
        "colab": {
          "base_uri": "https://localhost:8080/"
        },
        "id": "GRSkvxBCLExf",
        "outputId": "80447a93-8984-4cd7-fff3-2f4e59c7f94a"
      },
      "source": [
        "## create a sequential model using keras\n",
        "# layers for the model\n",
        "s = np.array(X_train.shape)\n",
        "finalSize = int(max(y_data)) + 1\n",
        "input_shape = (s[1], s[2], 1)\n",
        "\n",
        "layers = [\n",
        "            Conv2D(32, activation=\"relu\",  input_shape=input_shape, kernel_size=3),\n",
        "            Conv2D(64, activation=\"relu\",  padding ='same', kernel_size=3),\n",
        "            MaxPool2D((2,2)),\n",
        "            Conv2D(128, activation=\"relu\",  padding ='same', kernel_size=3),\n",
        "            Conv2D(128, activation=\"relu\",  padding ='same', kernel_size=3),\n",
        "            MaxPool2D((2,2)),\n",
        "            Conv2D(256, activation=\"relu\",  padding ='same', kernel_size=3),\n",
        "            Conv2D(256, activation=\"relu\",  padding ='same', kernel_size=3),\n",
        "            MaxPool2D((2,2)),\n",
        "            Flatten(),\n",
        "            Dropout(0.2),\n",
        "            Dense(128, activation='relu'),\n",
        "            Dropout(0.2),\n",
        "            Dense(128, activation='relu'),\n",
        "            Dropout(0.2),\n",
        "            Dense(1)\n",
        "         ]\n",
        "\n",
        "# construct the model\n",
        "model = Sequential(layers)\n",
        "\n",
        "# train the model and show summary\n",
        "model.compile(optimizer=\"adam\", loss='mean_squared_error', metrics=['mean_squared_error'])\n",
        "model.fit(X_train.reshape(-1, s[1], s[2] ,1), y_train, epochs=35, batch_size=10)\n",
        "model.summary()"
      ],
      "execution_count": 11,
      "outputs": [
        {
          "output_type": "stream",
          "text": [
            "Epoch 1/35\n",
            "1632/1632 [==============================] - 22s 13ms/step - loss: 29.1258 - mean_squared_error: 29.1258\n",
            "Epoch 2/35\n",
            "1632/1632 [==============================] - 22s 13ms/step - loss: 20.9268 - mean_squared_error: 20.9268\n",
            "Epoch 3/35\n",
            "1632/1632 [==============================] - 22s 14ms/step - loss: 17.0652 - mean_squared_error: 17.0652\n",
            "Epoch 4/35\n",
            "1632/1632 [==============================] - 22s 14ms/step - loss: 13.6790 - mean_squared_error: 13.6790\n",
            "Epoch 5/35\n",
            "1632/1632 [==============================] - 23s 14ms/step - loss: 11.3849 - mean_squared_error: 11.3849\n",
            "Epoch 6/35\n",
            "1632/1632 [==============================] - 23s 14ms/step - loss: 10.1953 - mean_squared_error: 10.1953\n",
            "Epoch 7/35\n",
            "1632/1632 [==============================] - 23s 14ms/step - loss: 9.4130 - mean_squared_error: 9.4130\n",
            "Epoch 8/35\n",
            "1632/1632 [==============================] - 23s 14ms/step - loss: 7.9403 - mean_squared_error: 7.9403\n",
            "Epoch 9/35\n",
            "1632/1632 [==============================] - 23s 14ms/step - loss: 7.4417 - mean_squared_error: 7.4417\n",
            "Epoch 10/35\n",
            "1632/1632 [==============================] - 23s 14ms/step - loss: 6.5677 - mean_squared_error: 6.5677\n",
            "Epoch 11/35\n",
            "1632/1632 [==============================] - 23s 14ms/step - loss: 6.4323 - mean_squared_error: 6.4323\n",
            "Epoch 12/35\n",
            "1632/1632 [==============================] - 23s 14ms/step - loss: 6.1082 - mean_squared_error: 6.1082\n",
            "Epoch 13/35\n",
            "1632/1632 [==============================] - 23s 14ms/step - loss: 5.7386 - mean_squared_error: 5.7386\n",
            "Epoch 14/35\n",
            "1632/1632 [==============================] - 23s 14ms/step - loss: 5.4055 - mean_squared_error: 5.4055\n",
            "Epoch 15/35\n",
            "1632/1632 [==============================] - 23s 14ms/step - loss: 5.0873 - mean_squared_error: 5.0873\n",
            "Epoch 16/35\n",
            "1632/1632 [==============================] - 23s 14ms/step - loss: 5.0430 - mean_squared_error: 5.0430\n",
            "Epoch 17/35\n",
            "1632/1632 [==============================] - 23s 14ms/step - loss: 4.7278 - mean_squared_error: 4.7278\n",
            "Epoch 18/35\n",
            "1632/1632 [==============================] - 23s 14ms/step - loss: 4.6148 - mean_squared_error: 4.6148\n",
            "Epoch 19/35\n",
            "1632/1632 [==============================] - 23s 14ms/step - loss: 4.5461 - mean_squared_error: 4.5461\n",
            "Epoch 20/35\n",
            "1632/1632 [==============================] - 23s 14ms/step - loss: 4.3149 - mean_squared_error: 4.3149\n",
            "Epoch 21/35\n",
            "1632/1632 [==============================] - 23s 14ms/step - loss: 4.3090 - mean_squared_error: 4.3090\n",
            "Epoch 22/35\n",
            "1632/1632 [==============================] - 23s 14ms/step - loss: 4.0416 - mean_squared_error: 4.0416\n",
            "Epoch 23/35\n",
            "1632/1632 [==============================] - 23s 14ms/step - loss: 4.0377 - mean_squared_error: 4.0377\n",
            "Epoch 24/35\n",
            "1632/1632 [==============================] - 23s 14ms/step - loss: 3.9563 - mean_squared_error: 3.9563\n",
            "Epoch 25/35\n",
            "1632/1632 [==============================] - 23s 14ms/step - loss: 3.8360 - mean_squared_error: 3.8360\n",
            "Epoch 26/35\n",
            "1632/1632 [==============================] - 23s 14ms/step - loss: 3.7798 - mean_squared_error: 3.7798\n",
            "Epoch 27/35\n",
            "1632/1632 [==============================] - 23s 14ms/step - loss: 3.6307 - mean_squared_error: 3.6307\n",
            "Epoch 28/35\n",
            "1632/1632 [==============================] - 23s 14ms/step - loss: 3.6864 - mean_squared_error: 3.6864\n",
            "Epoch 29/35\n",
            "1632/1632 [==============================] - 23s 14ms/step - loss: 3.5617 - mean_squared_error: 3.5617\n",
            "Epoch 30/35\n",
            "1632/1632 [==============================] - 23s 14ms/step - loss: 3.4187 - mean_squared_error: 3.4187\n",
            "Epoch 31/35\n",
            "1632/1632 [==============================] - 23s 14ms/step - loss: 3.4586 - mean_squared_error: 3.4586\n",
            "Epoch 32/35\n",
            "1632/1632 [==============================] - 23s 14ms/step - loss: 3.3212 - mean_squared_error: 3.3212\n",
            "Epoch 33/35\n",
            "1632/1632 [==============================] - 23s 14ms/step - loss: 3.2962 - mean_squared_error: 3.2962\n",
            "Epoch 34/35\n",
            "1632/1632 [==============================] - 23s 14ms/step - loss: 3.2424 - mean_squared_error: 3.2424\n",
            "Epoch 35/35\n",
            "1632/1632 [==============================] - 23s 14ms/step - loss: 3.1836 - mean_squared_error: 3.1836\n",
            "Model: \"sequential\"\n",
            "_________________________________________________________________\n",
            "Layer (type)                 Output Shape              Param #   \n",
            "=================================================================\n",
            "conv2d (Conv2D)              (None, 70, 94, 32)        320       \n",
            "_________________________________________________________________\n",
            "conv2d_1 (Conv2D)            (None, 70, 94, 64)        18496     \n",
            "_________________________________________________________________\n",
            "max_pooling2d (MaxPooling2D) (None, 35, 47, 64)        0         \n",
            "_________________________________________________________________\n",
            "conv2d_2 (Conv2D)            (None, 35, 47, 128)       73856     \n",
            "_________________________________________________________________\n",
            "conv2d_3 (Conv2D)            (None, 35, 47, 128)       147584    \n",
            "_________________________________________________________________\n",
            "max_pooling2d_1 (MaxPooling2 (None, 17, 23, 128)       0         \n",
            "_________________________________________________________________\n",
            "conv2d_4 (Conv2D)            (None, 17, 23, 256)       295168    \n",
            "_________________________________________________________________\n",
            "conv2d_5 (Conv2D)            (None, 17, 23, 256)       590080    \n",
            "_________________________________________________________________\n",
            "max_pooling2d_2 (MaxPooling2 (None, 8, 11, 256)        0         \n",
            "_________________________________________________________________\n",
            "flatten (Flatten)            (None, 22528)             0         \n",
            "_________________________________________________________________\n",
            "dropout (Dropout)            (None, 22528)             0         \n",
            "_________________________________________________________________\n",
            "dense (Dense)                (None, 128)               2883712   \n",
            "_________________________________________________________________\n",
            "dropout_1 (Dropout)          (None, 128)               0         \n",
            "_________________________________________________________________\n",
            "dense_1 (Dense)              (None, 128)               16512     \n",
            "_________________________________________________________________\n",
            "dropout_2 (Dropout)          (None, 128)               0         \n",
            "_________________________________________________________________\n",
            "dense_2 (Dense)              (None, 1)                 129       \n",
            "=================================================================\n",
            "Total params: 4,025,857\n",
            "Trainable params: 4,025,857\n",
            "Non-trainable params: 0\n",
            "_________________________________________________________________\n"
          ],
          "name": "stdout"
        }
      ]
    },
    {
      "cell_type": "code",
      "metadata": {
        "colab": {
          "base_uri": "https://localhost:8080/"
        },
        "id": "l5s73ojpLExf",
        "outputId": "c274269c-f42f-4477-9b4e-4a1d1f41e363"
      },
      "source": [
        "## evaluate the model\n",
        "scores = model.evaluate(X_test.reshape(-1, s[1], s[2] ,1), y_test)"
      ],
      "execution_count": 13,
      "outputs": [
        {
          "output_type": "stream",
          "text": [
            "128/128 [==============================] - 2s 12ms/step - loss: 5.6706 - mean_squared_error: 5.6706\n"
          ],
          "name": "stdout"
        }
      ]
    },
    {
      "cell_type": "code",
      "metadata": {
        "colab": {
          "base_uri": "https://localhost:8080/"
        },
        "id": "QCuG9vlELExf",
        "outputId": "bca1d317-10e0-473f-ccc5-dbcc93a354a2"
      },
      "source": [
        "model.save('cnn_20epoch')"
      ],
      "execution_count": 15,
      "outputs": [
        {
          "output_type": "stream",
          "text": [
            "INFO:tensorflow:Assets written to: cnn_20epoch/assets\n"
          ],
          "name": "stdout"
        }
      ]
    },
    {
      "cell_type": "code",
      "metadata": {
        "colab": {
          "base_uri": "https://localhost:8080/"
        },
        "id": "8fvpKLEJDI_l",
        "outputId": "298f28e5-8919-46e0-8a08-d7380cc38e56"
      },
      "source": [
        "# save the model to disk\n",
        "# serialize model to JSON\n",
        "from keras.models import model_from_json\n",
        "model_json = model.to_json()\n",
        "with open(\"model.json\", \"w\") as json_file:\n",
        "    json_file.write(model_json)\n",
        "# serialize weights to HDF5\n",
        "model.save_weights(\"model.h5\")\n",
        "print(\"Saved model to disk\")"
      ],
      "execution_count": 19,
      "outputs": [
        {
          "output_type": "stream",
          "text": [
            "Saved model to disk\n"
          ],
          "name": "stdout"
        }
      ]
    },
    {
      "cell_type": "code",
      "metadata": {
        "id": "hNtiNJJzeENT"
      },
      "source": [
        "# load json and create model\n",
        "json_file = open('model.json', 'r')\n",
        "loaded_model_json = json_file.read()\n",
        "json_file.close()\n",
        "importedModel = model_from_json(loaded_model_json)\n",
        "# load weights into new model\n",
        "importedModel.load_weights(\"model.h5\")\n",
        "print(\"Loaded model from disk\")\n",
        "importedModel.summary()"
      ],
      "execution_count": null,
      "outputs": []
    },
    {
      "cell_type": "code",
      "metadata": {
        "colab": {
          "base_uri": "https://localhost:8080/"
        },
        "id": "9nrkLExlLExh",
        "outputId": "2f2dd865-db58-46af-9629-272601f226c0"
      },
      "source": [
        "import cv2\n",
        "\n",
        "print(\"Estimated value:  Actual value:\")\n",
        "for i in range(0, 100):\n",
        "  print(importedModel.predict(X_test[i].reshape(-1, 72, 96 ,1)),\"    \",y_test[i])\n"
      ],
      "execution_count": 31,
      "outputs": [
        {
          "output_type": "stream",
          "text": [
            "Estimated value:  Actual value:\n",
            "[[21.114616]]      25.418693\n",
            "[[22.827507]]      23.798889\n",
            "[[21.3947]]      23.945837\n",
            "[[9.56452]]      7.848229\n",
            "[[19.446854]]      21.19189\n",
            "[[4.2933483]]      1.661847\n",
            "[[19.642363]]      21.67592\n",
            "[[8.493808]]      8.881263\n",
            "[[9.1413765]]      9.327785\n",
            "[[20.395744]]      22.796638\n",
            "[[19.24757]]      21.745117\n",
            "[[14.0466175]]      18.634625\n",
            "[[7.8959417]]      6.317187\n",
            "[[3.9267423]]      5.041238\n",
            "[[6.4920397]]      6.267151\n",
            "[[20.398489]]      24.615454\n",
            "[[1.7589467]]      1.873015\n",
            "[[20.641254]]      25.054747\n",
            "[[2.4949982]]      2.326663\n",
            "[[7.800795]]      7.420984\n",
            "[[4.052718]]      2.625963\n",
            "[[5.7246966]]      6.424878\n",
            "[[7.6585293]]      7.549004\n",
            "[[18.351128]]      14.557082\n",
            "[[1.6586118]]      0.0\n",
            "[[17.764385]]      22.24689\n",
            "[[1.4981346]]      0.0\n",
            "[[9.757156]]      9.13455\n",
            "[[18.68993]]      21.990503\n",
            "[[17.06067]]      22.098872\n",
            "[[19.998951]]      24.633293\n",
            "[[21.000305]]      26.059682\n",
            "[[8.852972]]      7.609576\n",
            "[[4.26097]]      4.370715\n",
            "[[7.0671673]]      6.668428\n",
            "[[16.106918]]      13.578804\n",
            "[[19.741396]]      17.521034\n",
            "[[15.40726]]      13.082818\n",
            "[[2.4949982]]      3.032148\n",
            "[[20.198292]]      21.30664\n",
            "[[5.025613]]      3.668677\n",
            "[[16.627426]]      15.927731\n",
            "[[20.257183]]      22.666418\n",
            "[[15.441565]]      14.024734\n",
            "[[20.639633]]      21.28672\n",
            "[[16.365906]]      18.569176\n",
            "[[8.238177]]      8.149485\n",
            "[[13.959524]]      14.531856\n",
            "[[2.087053]]      0.686397\n",
            "[[6.639166]]      6.570755\n",
            "[[11.949405]]      12.457763\n",
            "[[18.800837]]      21.830934\n",
            "[[20.5425]]      21.79771\n",
            "[[8.708691]]      3.500061\n",
            "[[2.280714]]      1.059402\n",
            "[[16.34792]]      20.197527\n",
            "[[15.689005]]      18.05214\n",
            "[[10.500591]]      10.614317\n",
            "[[2.1118987]]      3.174202\n",
            "[[21.891556]]      21.685146\n",
            "[[10.049904]]      10.142844\n",
            "[[18.394243]]      20.358638\n",
            "[[13.008531]]      9.282693\n",
            "[[8.728657]]      7.913788\n",
            "[[8.583891]]      14.056924\n",
            "[[2.4949982]]      2.184448\n",
            "[[1.2188323]]      1.42079\n",
            "[[5.3424597]]      4.929344\n",
            "[[3.599252]]      1.746597\n",
            "[[20.96711]]      24.276366\n",
            "[[2.2289164]]      1.84962\n",
            "[[19.24485]]      16.271328\n",
            "[[9.920474]]      9.969264\n",
            "[[21.186275]]      22.075773\n",
            "[[8.138159]]      8.782337\n",
            "[[1.5285633]]      0.0\n",
            "[[6.291935]]      6.527356\n",
            "[[1.8708146]]      2.493001\n",
            "[[17.067251]]      15.870762\n",
            "[[18.842426]]      24.428586\n",
            "[[20.71811]]      25.482997\n",
            "[[7.3974314]]      5.360988\n",
            "[[5.998822]]      5.394659\n",
            "[[3.0760727]]      3.275047\n",
            "[[10.11681]]      13.825075\n",
            "[[18.02055]]      17.658619\n",
            "[[7.398058]]      7.112112\n",
            "[[15.263534]]      14.389887\n",
            "[[8.958375]]      9.947175\n",
            "[[15.492792]]      14.256787\n",
            "[[20.080631]]      23.290118\n",
            "[[3.1521196]]      4.373685\n",
            "[[12.648701]]      13.985593\n",
            "[[19.407913]]      21.357363\n",
            "[[3.6759562]]      3.45539\n",
            "[[16.879807]]      18.918897\n",
            "[[20.272636]]      22.072469\n",
            "[[19.197918]]      22.440441\n",
            "[[9.669729]]      7.723783\n",
            "[[5.3716288]]      4.473064\n"
          ],
          "name": "stdout"
        }
      ]
    }
  ]
}